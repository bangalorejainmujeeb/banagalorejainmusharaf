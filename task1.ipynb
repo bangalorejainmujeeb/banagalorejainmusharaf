{
  "nbformat": 4,
  "nbformat_minor": 0,
  "metadata": {
    "colab": {
      "provenance": [],
      "authorship_tag": "ABX9TyMCEL4OUl/NgkdjtoQ3nppA",
      "include_colab_link": true
    },
    "kernelspec": {
      "name": "python3",
      "display_name": "Python 3"
    },
    "language_info": {
      "name": "python"
    }
  },
  "cells": [
    {
      "cell_type": "markdown",
      "metadata": {
        "id": "view-in-github",
        "colab_type": "text"
      },
      "source": [
        "<a href=\"https://colab.research.google.com/github/bangalorejainmujeeb/banagalorejainmusharaf/blob/main/task1.ipynb\" target=\"_parent\"><img src=\"https://colab.research.google.com/assets/colab-badge.svg\" alt=\"Open In Colab\"/></a>"
      ]
    },
    {
      "cell_type": "code",
      "execution_count": 5,
      "metadata": {
        "id": "053fWyi-6Z5u",
        "colab": {
          "base_uri": "https://localhost:8080/"
        },
        "outputId": "64d4e934-62fb-48fc-993c-007d108cdf67"
      },
      "outputs": [
        {
          "output_type": "stream",
          "name": "stdout",
          "text": [
            "Cleaned Dataset:\n",
            "   Employee_ID  Experience_Years   Salary  Role_Engineer  Role_Manager\n",
            "0          101               2.0  40000.0           True         False\n",
            "1          102               5.0  55000.0          False          True\n",
            "2          103               7.0  50000.0          False         False\n",
            "3          104               7.0  57250.0          False          True\n",
            "4          105              10.0  72000.0           True         False\n",
            "5          106               7.0  68000.0          False         False\n",
            "6          107              15.0  75000.0          False         False\n",
            "7          108               8.0  57250.0          False          True\n",
            "8          109               6.0  45000.0           True         False\n",
            "9          110               7.0  53000.0          False         False\n"
          ]
        }
      ],
      "source": [
        "import pandas as pd\n",
        "import numpy as np\n",
        "\n",
        "# Step 1: Create a Sample Dataset\n",
        "data = {\n",
        "    'Employee_ID': [101, 102, 103, 104, 105, 106, 107, 108, 109, 110],\n",
        "    'Experience_Years': [2, 5, np.nan, 7, 10, np.nan, 15, 8, 6, np.nan],\n",
        "    'Salary': [40000, 55000, 50000, np.nan, 72000, 68000, 75000, np.nan, 45000, 53000],\n",
        "    'Role': ['Engineer', 'Manager', 'Analyst', 'Manager', 'Engineer', 'Analyst', np.nan, 'Manager', 'Engineer', 'Analyst']\n",
        "}\n",
        "\n",
        "df = pd.DataFrame(data)\n",
        "\n",
        "# Step 2: Handle Missing Values\n",
        "df['Experience_Years'] = df['Experience_Years'].fillna(df['Experience_Years'].median())  # Filling missing Experience_Years with median\n",
        "df['Salary'] = df['Salary'].fillna(df['Salary'].mean())  # Filling missing Salary with mean\n",
        "df['Role'] = df['Role'].fillna(df['Role'].mode()[0])  # Filling missing Role with mode\n",
        "\n",
        "# Step 3: Convert Categorical Variables using One-Hot Encoding\n",
        "df = pd.get_dummies(df, columns=['Role'], drop_first=True)  # One-hot encoding\n",
        "\n",
        "# Display the cleaned dataset\n",
        "print(\"Cleaned Dataset:\")\n",
        "print(df)\n"
      ]
    }
  ]
}