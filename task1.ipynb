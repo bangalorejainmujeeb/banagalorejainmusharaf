{
  "nbformat": 4,
  "nbformat_minor": 0,
  "metadata": {
    "colab": {
      "provenance": [],
      "authorship_tag": "ABX9TyONOVIW8dnI0CcFuyXcC/pV",
      "include_colab_link": true
    },
    "kernelspec": {
      "name": "python3",
      "display_name": "Python 3"
    },
    "language_info": {
      "name": "python"
    }
  },
  "cells": [
    {
      "cell_type": "markdown",
      "metadata": {
        "id": "view-in-github",
        "colab_type": "text"
      },
      "source": [
        "<a href=\"https://colab.research.google.com/github/bangalorejainmujeeb/banagalorejainmusharaf/blob/main/task1.ipynb\" target=\"_parent\"><img src=\"https://colab.research.google.com/assets/colab-badge.svg\" alt=\"Open In Colab\"/></a>"
      ]
    },
    {
      "cell_type": "code",
      "execution_count": 3,
      "metadata": {
        "id": "053fWyi-6Z5u",
        "colab": {
          "base_uri": "https://localhost:8080/"
        },
        "outputId": "1014e08a-a9b8-4ef2-b5d8-d848b1702db5"
      },
      "outputs": [
        {
          "output_type": "stream",
          "name": "stdout",
          "text": [
            "Cleaned Dataset:\n",
            "   ID   Age   Salary  Department_HR  Department_IT\n",
            "0   1  25.0  50000.0           True          False\n",
            "1   2  30.0  60000.0          False           True\n",
            "2   3  38.0  55000.0          False          False\n",
            "3   4  40.0  59750.0          False           True\n",
            "4   5  35.0  65000.0           True          False\n",
            "5   6  38.0  70000.0          False          False\n",
            "6   7  50.0  72000.0          False          False\n",
            "7   8  45.0  59750.0          False           True\n",
            "8   9  38.0  48000.0           True          False\n",
            "9  10  38.0  58000.0          False          False\n"
          ]
        }
      ],
      "source": [
        "import pandas as pd\n",
        "import numpy as np\n",
        "\n",
        "# Step 1: Create a Sample Dataset\n",
        "data = {\n",
        "    'ID': [1, 2, 3, 4, 5, 6, 7, 8, 9, 10],\n",
        "    'Age': [25, 30, np.nan, 40, 35, np.nan, 50, 45, 38, np.nan],\n",
        "    'Salary': [50000, 60000, 55000, np.nan, 65000, 70000, 72000, np.nan, 48000, 58000],\n",
        "    'Department': ['HR', 'IT', 'Finance', 'IT', 'HR', 'Finance', np.nan, 'IT', 'HR', 'Finance']\n",
        "}\n",
        "\n",
        "df = pd.DataFrame(data)\n",
        "\n",
        "# Step 2: Handle Missing Values (Without inplace=True)\n",
        "df['Age'] = df['Age'].fillna(df['Age'].median())  # Filling missing Age with median\n",
        "df['Salary'] = df['Salary'].fillna(df['Salary'].mean())  # Filling missing Salary with mean\n",
        "df['Department'] = df['Department'].fillna(df['Department'].mode()[0])  # Filling missing Department with mode\n",
        "\n",
        "# Step 3: Convert Categorical Variables using One-Hot Encoding\n",
        "df = pd.get_dummies(df, columns=['Department'], drop_first=True)  # One-hot encoding\n",
        "\n",
        "# Display the cleaned dataset\n",
        "print(\"Cleaned Dataset:\")\n",
        "print(df)"
      ]
    }
  ]
}